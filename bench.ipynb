{
 "cells": [
  {
   "cell_type": "code",
   "execution_count": 1,
   "metadata": {},
   "outputs": [],
   "source": [
    "from pandas_gbq import read_gbq\n",
    "from pathlib import Path\n",
    "import os"
   ]
  },
  {
   "cell_type": "code",
   "execution_count": 3,
   "metadata": {},
   "outputs": [],
   "source": [
    "PROCEDURES=Path(\"./procedures\")\n",
    "PROJECT_ID=os.getenv(\"PROJECTID\") \n",
    "# Pass a project-id to Google Cloud Project.\n",
    "# Make sure that your google account associated to the google cloud porject is the same authorized to access eICU\n"
   ]
  },
  {
   "cell_type": "code",
   "execution_count": 10,
   "metadata": {},
   "outputs": [
    {
     "name": "stderr",
     "output_type": "stream",
     "text": [
      "/usr/local/lib/python3.12/site-packages/google/cloud/bigquery/table.py:2379: UserWarning: A progress bar was requested, but there was an error loading the tqdm library. Please install tqdm to use the progress bar functionality.\n",
      "  record_batch = self.to_arrow(\n"
     ]
    },
    {
     "data": {
      "text/html": [
       "<div>\n",
       "<style scoped>\n",
       "    .dataframe tbody tr th:only-of-type {\n",
       "        vertical-align: middle;\n",
       "    }\n",
       "\n",
       "    .dataframe tbody tr th {\n",
       "        vertical-align: top;\n",
       "    }\n",
       "\n",
       "    .dataframe thead th {\n",
       "        text-align: right;\n",
       "    }\n",
       "</style>\n",
       "<table border=\"1\" class=\"dataframe\">\n",
       "  <thead>\n",
       "    <tr style=\"text-align: right;\">\n",
       "      <th></th>\n",
       "      <th>patientunitstayid</th>\n",
       "      <th>itemid</th>\n",
       "      <th>offset</th>\n",
       "      <th>item</th>\n",
       "      <th>value</th>\n",
       "      <th>unit</th>\n",
       "    </tr>\n",
       "  </thead>\n",
       "  <tbody>\n",
       "    <tr>\n",
       "      <th>0</th>\n",
       "      <td>171881</td>\n",
       "      <td>10545054</td>\n",
       "      <td>18442</td>\n",
       "      <td>Volume-Transfuse red blood cells</td>\n",
       "      <td>0.00</td>\n",
       "      <td>ml</td>\n",
       "    </tr>\n",
       "    <tr>\n",
       "      <th>1</th>\n",
       "      <td>233591</td>\n",
       "      <td>16947217</td>\n",
       "      <td>7357</td>\n",
       "      <td>Volume-Transfuse red blood cells</td>\n",
       "      <td>0.00</td>\n",
       "      <td>ml</td>\n",
       "    </tr>\n",
       "    <tr>\n",
       "      <th>2</th>\n",
       "      <td>225082</td>\n",
       "      <td>10199800</td>\n",
       "      <td>7929</td>\n",
       "      <td>Volume-Transfuse red blood cells</td>\n",
       "      <td>0.00</td>\n",
       "      <td>ml</td>\n",
       "    </tr>\n",
       "    <tr>\n",
       "      <th>3</th>\n",
       "      <td>158554</td>\n",
       "      <td>17092117</td>\n",
       "      <td>861</td>\n",
       "      <td>Volume-Transfuse red blood cells</td>\n",
       "      <td>30.00</td>\n",
       "      <td>ml</td>\n",
       "    </tr>\n",
       "    <tr>\n",
       "      <th>4</th>\n",
       "      <td>192676</td>\n",
       "      <td>17264846</td>\n",
       "      <td>5305</td>\n",
       "      <td>Volume-Transfuse red blood cells</td>\n",
       "      <td>50.00</td>\n",
       "      <td>ml</td>\n",
       "    </tr>\n",
       "    <tr>\n",
       "      <th>...</th>\n",
       "      <td>...</td>\n",
       "      <td>...</td>\n",
       "      <td>...</td>\n",
       "      <td>...</td>\n",
       "      <td>...</td>\n",
       "      <td>...</td>\n",
       "    </tr>\n",
       "    <tr>\n",
       "      <th>5836</th>\n",
       "      <td>200552</td>\n",
       "      <td>12159930</td>\n",
       "      <td>721</td>\n",
       "      <td>Volume-Transfuse red blood cells</td>\n",
       "      <td>266.44</td>\n",
       "      <td>ml</td>\n",
       "    </tr>\n",
       "    <tr>\n",
       "      <th>5837</th>\n",
       "      <td>241531</td>\n",
       "      <td>12599165</td>\n",
       "      <td>853</td>\n",
       "      <td>Volume-Transfuse red blood cells</td>\n",
       "      <td>302.19</td>\n",
       "      <td>ml</td>\n",
       "    </tr>\n",
       "    <tr>\n",
       "      <th>5838</th>\n",
       "      <td>149119</td>\n",
       "      <td>13798701</td>\n",
       "      <td>1572</td>\n",
       "      <td>Volume-Transfuse red blood cells</td>\n",
       "      <td>320.83</td>\n",
       "      <td>ml</td>\n",
       "    </tr>\n",
       "    <tr>\n",
       "      <th>5839</th>\n",
       "      <td>225311</td>\n",
       "      <td>15278430</td>\n",
       "      <td>17388</td>\n",
       "      <td>Volume-Transfuse red blood cells</td>\n",
       "      <td>285.83</td>\n",
       "      <td>ml</td>\n",
       "    </tr>\n",
       "    <tr>\n",
       "      <th>5840</th>\n",
       "      <td>200551</td>\n",
       "      <td>13911684</td>\n",
       "      <td>22595</td>\n",
       "      <td>Volume-Transfuse red blood cells</td>\n",
       "      <td>293.47</td>\n",
       "      <td>ml</td>\n",
       "    </tr>\n",
       "  </tbody>\n",
       "</table>\n",
       "<p>5841 rows × 6 columns</p>\n",
       "</div>"
      ],
      "text/plain": [
       "      patientunitstayid    itemid  offset                              item  \\\n",
       "0                171881  10545054   18442  Volume-Transfuse red blood cells   \n",
       "1                233591  16947217    7357  Volume-Transfuse red blood cells   \n",
       "2                225082  10199800    7929  Volume-Transfuse red blood cells   \n",
       "3                158554  17092117     861  Volume-Transfuse red blood cells   \n",
       "4                192676  17264846    5305  Volume-Transfuse red blood cells   \n",
       "...                 ...       ...     ...                               ...   \n",
       "5836             200552  12159930     721  Volume-Transfuse red blood cells   \n",
       "5837             241531  12599165     853  Volume-Transfuse red blood cells   \n",
       "5838             149119  13798701    1572  Volume-Transfuse red blood cells   \n",
       "5839             225311  15278430   17388  Volume-Transfuse red blood cells   \n",
       "5840             200551  13911684   22595  Volume-Transfuse red blood cells   \n",
       "\n",
       "       value unit  \n",
       "0       0.00   ml  \n",
       "1       0.00   ml  \n",
       "2       0.00   ml  \n",
       "3      30.00   ml  \n",
       "4      50.00   ml  \n",
       "...      ...  ...  \n",
       "5836  266.44   ml  \n",
       "5837  302.19   ml  \n",
       "5838  320.83   ml  \n",
       "5839  285.83   ml  \n",
       "5840  293.47   ml  \n",
       "\n",
       "[5841 rows x 6 columns]"
      ]
     },
     "execution_count": 10,
     "metadata": {},
     "output_type": "execute_result"
    }
   ],
   "source": [
    "query=open(PROCEDURES / \"transfusion.sql\",\"r\").read()\n",
    "transfusion_df=read_gbq(query,project_id=PROJECT_ID)\n",
    "transfusion_df"
   ]
  },
  {
   "cell_type": "code",
   "execution_count": 11,
   "metadata": {},
   "outputs": [
    {
     "name": "stderr",
     "output_type": "stream",
     "text": [
      "/usr/local/lib/python3.12/site-packages/google/cloud/bigquery/table.py:2379: UserWarning: A progress bar was requested, but there was an error loading the tqdm library. Please install tqdm to use the progress bar functionality.\n",
      "  record_batch = self.to_arrow(\n"
     ]
    }
   ],
   "source": [
    "query=open(PROCEDURES / \"hgb.sql\",\"r\").read()\n",
    "hgb_df=read_gbq(query,project_id=PROJECT_ID)\n",
    "hgb_df"
   ]
  },
  {
   "cell_type": "code",
   "execution_count": null,
   "metadata": {},
   "outputs": [],
   "source": [
    "query=open(PROCEDURES / \"blood_loss.sql\",\"r\").read()\n",
    "blood_loss_df=read_gbq(query,project_id=PROJECT_ID)\n",
    "blood_loss_df"
   ]
  }
 ],
 "metadata": {
  "kernelspec": {
   "display_name": "Python 3",
   "language": "python",
   "name": "python3"
  },
  "language_info": {
   "codemirror_mode": {
    "name": "ipython",
    "version": 3
   },
   "file_extension": ".py",
   "mimetype": "text/x-python",
   "name": "python",
   "nbconvert_exporter": "python",
   "pygments_lexer": "ipython3",
   "version": "3.12.4"
  }
 },
 "nbformat": 4,
 "nbformat_minor": 2
}
